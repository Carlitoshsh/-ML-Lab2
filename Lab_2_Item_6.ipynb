{
  "nbformat": 4,
  "nbformat_minor": 0,
  "metadata": {
    "colab": {
      "name": "Lab 2 - Item 6.ipynb",
      "version": "0.3.2",
      "provenance": [],
      "collapsed_sections": [],
      "include_colab_link": true
    }
  },
  "cells": [
    {
      "cell_type": "markdown",
      "metadata": {
        "id": "view-in-github",
        "colab_type": "text"
      },
      "source": [
        "[View in Colaboratory](https://colab.research.google.com/github/Carlitoshsh/-ML-Lab2/blob/master/Lab_2_Item_6.ipynb)"
      ]
    },
    {
      "metadata": {
        "id": "Bit3YlbEQJMx",
        "colab_type": "code",
        "colab": {}
      },
      "cell_type": "code",
      "source": [
        "# Import pandas library\n",
        "import pandas as pd"
      ],
      "execution_count": 0,
      "outputs": []
    },
    {
      "metadata": {
        "id": "FOa1LuvpPbvs",
        "colab_type": "code",
        "colab": {
          "base_uri": "https://localhost:8080/",
          "height": 204
        },
        "outputId": "7bf26af9-2b84-46d8-eb09-e8db9761d155"
      },
      "cell_type": "code",
      "source": [
        "#Rap Biggie Smalls\n",
        "url_data_biggie = \"https://raw.githubusercontent.com/NoahLidell/math-of-intelligence/master/probability_theory/biggie_lyrics.csv\"\n",
        "biggie_df = pd.read_csv(url_data_biggie, usecols=[1], encoding='latin-1', header=None)\n",
        "biggie_df.columns = [\"lyrics\"]\n",
        "biggie_df.head()"
      ],
      "execution_count": 68,
      "outputs": [
        {
          "output_type": "execute_result",
          "data": {
            "text/html": [
              "<div>\n",
              "<style scoped>\n",
              "    .dataframe tbody tr th:only-of-type {\n",
              "        vertical-align: middle;\n",
              "    }\n",
              "\n",
              "    .dataframe tbody tr th {\n",
              "        vertical-align: top;\n",
              "    }\n",
              "\n",
              "    .dataframe thead th {\n",
              "        text-align: right;\n",
              "    }\n",
              "</style>\n",
              "<table border=\"1\" class=\"dataframe\">\n",
              "  <thead>\n",
              "    <tr style=\"text-align: right;\">\n",
              "      <th></th>\n",
              "      <th>lyrics</th>\n",
              "    </tr>\n",
              "  </thead>\n",
              "  <tbody>\n",
              "    <tr>\n",
              "      <th>0</th>\n",
              "      <td>Fuck all you hoes\\nGet a grip motherfucker.\\nY...</td>\n",
              "    </tr>\n",
              "    <tr>\n",
              "      <th>1</th>\n",
              "      <td>As I grab the glock, put it to your headpiece\\...</td>\n",
              "    </tr>\n",
              "    <tr>\n",
              "      <th>2</th>\n",
              "      <td>I don't wanna live no mo'\\nSometimes I hear de...</td>\n",
              "    </tr>\n",
              "    <tr>\n",
              "      <th>3</th>\n",
              "      <td>To all the ladies in the place with style and ...</td>\n",
              "    </tr>\n",
              "    <tr>\n",
              "      <th>4</th>\n",
              "      <td>Nineteen-seventy somethin', nigga I don't swea...</td>\n",
              "    </tr>\n",
              "  </tbody>\n",
              "</table>\n",
              "</div>"
            ],
            "text/plain": [
              "                                              lyrics\n",
              "0  Fuck all you hoes\\nGet a grip motherfucker.\\nY...\n",
              "1  As I grab the glock, put it to your headpiece\\...\n",
              "2  I don't wanna live no mo'\\nSometimes I hear de...\n",
              "3  To all the ladies in the place with style and ...\n",
              "4  Nineteen-seventy somethin', nigga I don't swea..."
            ]
          },
          "metadata": {
            "tags": []
          },
          "execution_count": 68
        }
      ]
    },
    {
      "metadata": {
        "id": "boXtYAARQbHB",
        "colab_type": "code",
        "colab": {
          "base_uri": "https://localhost:8080/",
          "height": 204
        },
        "outputId": "a3ea8fad-ef87-49be-cfd4-2f4a27f5ce2a"
      },
      "cell_type": "code",
      "source": [
        "url_data_pac = \"https://raw.githubusercontent.com/NoahLidell/math-of-intelligence/master/probability_theory/2pac_lyrics.csv\"\n",
        "pac_df = pd.read_csv(url_data_pac, usecols=[1], encoding='latin-1', header=None)\n",
        "pac_df.columns = [\"lyrics\"]\n",
        "pac_df.head()"
      ],
      "execution_count": 69,
      "outputs": [
        {
          "output_type": "execute_result",
          "data": {
            "text/html": [
              "<div>\n",
              "<style scoped>\n",
              "    .dataframe tbody tr th:only-of-type {\n",
              "        vertical-align: middle;\n",
              "    }\n",
              "\n",
              "    .dataframe tbody tr th {\n",
              "        vertical-align: top;\n",
              "    }\n",
              "\n",
              "    .dataframe thead th {\n",
              "        text-align: right;\n",
              "    }\n",
              "</style>\n",
              "<table border=\"1\" class=\"dataframe\">\n",
              "  <thead>\n",
              "    <tr style=\"text-align: right;\">\n",
              "      <th></th>\n",
              "      <th>lyrics</th>\n",
              "    </tr>\n",
              "  </thead>\n",
              "  <tbody>\n",
              "    <tr>\n",
              "      <th>0</th>\n",
              "      <td>Little something for my godson Elijah\\nAnd a l...</td>\n",
              "    </tr>\n",
              "    <tr>\n",
              "      <th>1</th>\n",
              "      <td>Yo Mo Bee mayn! Drop that shit!\\nYou know what...</td>\n",
              "    </tr>\n",
              "    <tr>\n",
              "      <th>2</th>\n",
              "      <td>Rest in peace to my motherfucker Biggy Smallz\\...</td>\n",
              "    </tr>\n",
              "    <tr>\n",
              "      <th>3</th>\n",
              "      <td>Makaveli in this, Killuminati\\nAll through you...</td>\n",
              "    </tr>\n",
              "    <tr>\n",
              "      <th>4</th>\n",
              "      <td>It's just me against the world\\nNothin' to los...</td>\n",
              "    </tr>\n",
              "  </tbody>\n",
              "</table>\n",
              "</div>"
            ],
            "text/plain": [
              "                                              lyrics\n",
              "0  Little something for my godson Elijah\\nAnd a l...\n",
              "1  Yo Mo Bee mayn! Drop that shit!\\nYou know what...\n",
              "2  Rest in peace to my motherfucker Biggy Smallz\\...\n",
              "3  Makaveli in this, Killuminati\\nAll through you...\n",
              "4  It's just me against the world\\nNothin' to los..."
            ]
          },
          "metadata": {
            "tags": []
          },
          "execution_count": 69
        }
      ]
    },
    {
      "metadata": {
        "id": "vLlcJ2MOSDZ5",
        "colab_type": "code",
        "colab": {
          "base_uri": "https://localhost:8080/",
          "height": 204
        },
        "outputId": "5e87c24d-4038-47bf-a461-915807589569"
      },
      "cell_type": "code",
      "source": [
        "biggie_df[\"lyrics\"] = biggie_df[\"lyrics\"].map(lambda x: x.lower())\n",
        "biggie_df.head()"
      ],
      "execution_count": 70,
      "outputs": [
        {
          "output_type": "execute_result",
          "data": {
            "text/html": [
              "<div>\n",
              "<style scoped>\n",
              "    .dataframe tbody tr th:only-of-type {\n",
              "        vertical-align: middle;\n",
              "    }\n",
              "\n",
              "    .dataframe tbody tr th {\n",
              "        vertical-align: top;\n",
              "    }\n",
              "\n",
              "    .dataframe thead th {\n",
              "        text-align: right;\n",
              "    }\n",
              "</style>\n",
              "<table border=\"1\" class=\"dataframe\">\n",
              "  <thead>\n",
              "    <tr style=\"text-align: right;\">\n",
              "      <th></th>\n",
              "      <th>lyrics</th>\n",
              "    </tr>\n",
              "  </thead>\n",
              "  <tbody>\n",
              "    <tr>\n",
              "      <th>0</th>\n",
              "      <td>fuck all you hoes\\nget a grip motherfucker.\\ny...</td>\n",
              "    </tr>\n",
              "    <tr>\n",
              "      <th>1</th>\n",
              "      <td>as i grab the glock, put it to your headpiece\\...</td>\n",
              "    </tr>\n",
              "    <tr>\n",
              "      <th>2</th>\n",
              "      <td>i don't wanna live no mo'\\nsometimes i hear de...</td>\n",
              "    </tr>\n",
              "    <tr>\n",
              "      <th>3</th>\n",
              "      <td>to all the ladies in the place with style and ...</td>\n",
              "    </tr>\n",
              "    <tr>\n",
              "      <th>4</th>\n",
              "      <td>nineteen-seventy somethin', nigga i don't swea...</td>\n",
              "    </tr>\n",
              "  </tbody>\n",
              "</table>\n",
              "</div>"
            ],
            "text/plain": [
              "                                              lyrics\n",
              "0  fuck all you hoes\\nget a grip motherfucker.\\ny...\n",
              "1  as i grab the glock, put it to your headpiece\\...\n",
              "2  i don't wanna live no mo'\\nsometimes i hear de...\n",
              "3  to all the ladies in the place with style and ...\n",
              "4  nineteen-seventy somethin', nigga i don't swea..."
            ]
          },
          "metadata": {
            "tags": []
          },
          "execution_count": 70
        }
      ]
    },
    {
      "metadata": {
        "id": "RAjTtbJZR73h",
        "colab_type": "code",
        "colab": {
          "base_uri": "https://localhost:8080/",
          "height": 204
        },
        "outputId": "12c31622-a9db-446f-ceec-05cfef75a25e"
      },
      "cell_type": "code",
      "source": [
        "pac_df[\"lyrics\"] = pac_df[\"lyrics\"].map(lambda x: x.lower())\n",
        "pac_df.head()"
      ],
      "execution_count": 71,
      "outputs": [
        {
          "output_type": "execute_result",
          "data": {
            "text/html": [
              "<div>\n",
              "<style scoped>\n",
              "    .dataframe tbody tr th:only-of-type {\n",
              "        vertical-align: middle;\n",
              "    }\n",
              "\n",
              "    .dataframe tbody tr th {\n",
              "        vertical-align: top;\n",
              "    }\n",
              "\n",
              "    .dataframe thead th {\n",
              "        text-align: right;\n",
              "    }\n",
              "</style>\n",
              "<table border=\"1\" class=\"dataframe\">\n",
              "  <thead>\n",
              "    <tr style=\"text-align: right;\">\n",
              "      <th></th>\n",
              "      <th>lyrics</th>\n",
              "    </tr>\n",
              "  </thead>\n",
              "  <tbody>\n",
              "    <tr>\n",
              "      <th>0</th>\n",
              "      <td>little something for my godson elijah\\nand a l...</td>\n",
              "    </tr>\n",
              "    <tr>\n",
              "      <th>1</th>\n",
              "      <td>yo mo bee mayn! drop that shit!\\nyou know what...</td>\n",
              "    </tr>\n",
              "    <tr>\n",
              "      <th>2</th>\n",
              "      <td>rest in peace to my motherfucker biggy smallz\\...</td>\n",
              "    </tr>\n",
              "    <tr>\n",
              "      <th>3</th>\n",
              "      <td>makaveli in this, killuminati\\nall through you...</td>\n",
              "    </tr>\n",
              "    <tr>\n",
              "      <th>4</th>\n",
              "      <td>it's just me against the world\\nnothin' to los...</td>\n",
              "    </tr>\n",
              "  </tbody>\n",
              "</table>\n",
              "</div>"
            ],
            "text/plain": [
              "                                              lyrics\n",
              "0  little something for my godson elijah\\nand a l...\n",
              "1  yo mo bee mayn! drop that shit!\\nyou know what...\n",
              "2  rest in peace to my motherfucker biggy smallz\\...\n",
              "3  makaveli in this, killuminati\\nall through you...\n",
              "4  it's just me against the world\\nnothin' to los..."
            ]
          },
          "metadata": {
            "tags": []
          },
          "execution_count": 71
        }
      ]
    },
    {
      "metadata": {
        "id": "z5_Mw-c1RV_5",
        "colab_type": "code",
        "colab": {
          "base_uri": "https://localhost:8080/",
          "height": 884
        },
        "outputId": "085f162e-71c6-4d65-bb86-8ebc9cdf4a9c"
      },
      "cell_type": "code",
      "source": [
        "# Convert a collection of text documents to a matrix of token counts\n",
        "# http://scikit-learn.org/stable/modules/generated/sklearn.feature_extraction.text.CountVectorizer.html\n",
        "# http://scikit-learn.org/stable/modules/feature_extraction.html#text-feature-extraction\n",
        "# to allow one letter words count_vect = CountVectorizer(token_pattern = r\"(?u)\\b\\w+\\b\")\n",
        "from sklearn.feature_extraction.text import CountVectorizer\n",
        "count_vect = CountVectorizer(token_pattern = r\"(?u)\\b\\w+\\b\") \n",
        "counts2pac = count_vect.fit_transform(pac_df[\"lyrics\"])\n",
        "\n",
        "print(counts2pac)\n"
      ],
      "execution_count": 72,
      "outputs": [
        {
          "output_type": "stream",
          "text": [
            "  (0, 1511)\t1\n",
            "  (0, 745)\t1\n",
            "  (0, 116)\t1\n",
            "  (0, 451)\t1\n",
            "  (0, 1270)\t1\n",
            "  (0, 1378)\t1\n",
            "  (0, 300)\t1\n",
            "  (0, 1074)\t2\n",
            "  (0, 1065)\t1\n",
            "  (0, 1744)\t2\n",
            "  (0, 634)\t1\n",
            "  (0, 336)\t1\n",
            "  (0, 406)\t1\n",
            "  (0, 1698)\t1\n",
            "  (0, 763)\t1\n",
            "  (0, 1462)\t1\n",
            "  (0, 274)\t1\n",
            "  (0, 1291)\t1\n",
            "  (0, 1539)\t1\n",
            "  (0, 1713)\t2\n",
            "  (0, 531)\t1\n",
            "  (0, 921)\t1\n",
            "  (0, 1093)\t1\n",
            "  (0, 800)\t1\n",
            "  (0, 462)\t1\n",
            "  :\t:\n",
            "  (15, 808)\t1\n",
            "  (15, 421)\t1\n",
            "  (15, 599)\t3\n",
            "  (15, 1688)\t5\n",
            "  (15, 967)\t3\n",
            "  (15, 1707)\t2\n",
            "  (15, 929)\t1\n",
            "  (15, 889)\t2\n",
            "  (15, 215)\t2\n",
            "  (15, 435)\t3\n",
            "  (15, 1767)\t2\n",
            "  (15, 102)\t1\n",
            "  (15, 899)\t1\n",
            "  (15, 1562)\t1\n",
            "  (15, 853)\t1\n",
            "  (15, 1522)\t1\n",
            "  (15, 1075)\t2\n",
            "  (15, 1589)\t4\n",
            "  (15, 633)\t2\n",
            "  (15, 787)\t2\n",
            "  (15, 1556)\t6\n",
            "  (15, 1313)\t2\n",
            "  (15, 11)\t4\n",
            "  (15, 50)\t7\n",
            "  (15, 582)\t1\n"
          ],
          "name": "stdout"
        }
      ]
    },
    {
      "metadata": {
        "id": "Pxs1xOjBSb-o",
        "colab_type": "code",
        "colab": {
          "base_uri": "https://localhost:8080/",
          "height": 884
        },
        "outputId": "bfa6ee82-b48b-4553-d1ca-e9bb4feb61d7"
      },
      "cell_type": "code",
      "source": [
        "countsbiggie = count_vect.fit_transform(biggie_df[\"lyrics\"])  \n",
        "print(countsbiggie)"
      ],
      "execution_count": 73,
      "outputs": [
        {
          "output_type": "stream",
          "text": [
            "  (0, 852)\t1\n",
            "  (0, 604)\t1\n",
            "  (0, 1024)\t1\n",
            "  (0, 1026)\t1\n",
            "  (0, 896)\t1\n",
            "  (0, 824)\t1\n",
            "  (0, 1792)\t1\n",
            "  (0, 1368)\t1\n",
            "  (0, 1301)\t1\n",
            "  (0, 1140)\t1\n",
            "  (0, 1901)\t1\n",
            "  (0, 982)\t1\n",
            "  (0, 1378)\t1\n",
            "  (0, 420)\t1\n",
            "  (0, 85)\t1\n",
            "  (0, 1739)\t1\n",
            "  (0, 297)\t1\n",
            "  (0, 1513)\t1\n",
            "  (0, 426)\t1\n",
            "  (0, 1942)\t1\n",
            "  (0, 147)\t1\n",
            "  (0, 1084)\t1\n",
            "  (0, 322)\t1\n",
            "  (0, 1918)\t1\n",
            "  (0, 1936)\t1\n",
            "  :\t:\n",
            "  (15, 1843)\t3\n",
            "  (15, 1417)\t8\n",
            "  (15, 874)\t7\n",
            "  (15, 1018)\t3\n",
            "  (15, 920)\t1\n",
            "  (15, 57)\t4\n",
            "  (15, 1126)\t5\n",
            "  (15, 1574)\t4\n",
            "  (15, 897)\t2\n",
            "  (15, 1908)\t2\n",
            "  (15, 1194)\t6\n",
            "  (15, 1188)\t1\n",
            "  (15, 854)\t7\n",
            "  (15, 1249)\t1\n",
            "  (15, 843)\t19\n",
            "  (15, 1059)\t3\n",
            "  (15, 1722)\t5\n",
            "  (15, 1723)\t19\n",
            "  (15, 1772)\t11\n",
            "  (15, 873)\t4\n",
            "  (15, 16)\t8\n",
            "  (15, 797)\t2\n",
            "  (15, 1961)\t4\n",
            "  (15, 46)\t3\n",
            "  (15, 653)\t3\n"
          ],
          "name": "stdout"
        }
      ]
    },
    {
      "metadata": {
        "id": "UEDHPOcxSotQ",
        "colab_type": "code",
        "colab": {
          "base_uri": "https://localhost:8080/",
          "height": 51
        },
        "outputId": "fef271d6-1d5b-462e-d92e-33fd57074871"
      },
      "cell_type": "code",
      "source": [
        "print(\"2pac, documents and words\",counts2pac.shape)\n",
        "print(\"biggie, documents and words\",countsbiggie.shape)"
      ],
      "execution_count": 74,
      "outputs": [
        {
          "output_type": "stream",
          "text": [
            "('2pac, documents and words', (16, 1774))\n",
            "('biggie, documents and words', (16, 1968))\n"
          ],
          "name": "stdout"
        }
      ]
    },
    {
      "metadata": {
        "id": "Og6Nr3V7UITX",
        "colab_type": "code",
        "colab": {
          "base_uri": "https://localhost:8080/",
          "height": 85
        },
        "outputId": "499a293b-5d1f-4a2b-9f1d-9723d8b74ab4"
      },
      "cell_type": "code",
      "source": [
        "# https://stackoverflow.com/questions/28064634/random-state-pseudo-random-numberin-scikit-learn\n",
        "from sklearn.model_selection import train_test_split\n",
        "X_train_biggie, X_test_biggie, y_train_biggie, y_test_biggie = train_test_split(countsbiggie, biggie_df[\"lyrics\"], test_size=0.1, random_state=69) \n",
        "\n",
        "from sklearn.naive_bayes import MultinomialNB\n",
        "\n",
        "model = MultinomialNB().fit(X_train_biggie, y_train_biggie)  \n",
        "\n",
        "import numpy as np\n",
        "predicted = model.predict(X_test_biggie)\n",
        "print(np.mean(predicted == y_test_biggie))\n",
        "\n",
        "from sklearn.metrics import confusion_matrix\n",
        "print(confusion_matrix(y_test_biggie, predicted))"
      ],
      "execution_count": 75,
      "outputs": [
        {
          "output_type": "stream",
          "text": [
            "0.0\n",
            "[[0 0 0]\n",
            " [1 0 0]\n",
            " [1 0 0]]\n"
          ],
          "name": "stdout"
        }
      ]
    },
    {
      "metadata": {
        "id": "Th_2TRlMUmAY",
        "colab_type": "code",
        "colab": {
          "base_uri": "https://localhost:8080/",
          "height": 102
        },
        "outputId": "e46f6603-990c-4ce7-94a8-f60f4cf60ab2"
      },
      "cell_type": "code",
      "source": [
        "# https://stackoverflow.com/questions/28064634/random-state-pseudo-random-numberin-scikit-learn\n",
        "from sklearn.model_selection import train_test_split\n",
        "X_train_2pac, X_test_2pac, y_train_2pac, y_test_2pac = train_test_split(counts2pac, pac_df[\"lyrics\"], test_size=0.1, random_state=69) \n",
        "\n",
        "from sklearn.naive_bayes import MultinomialNB\n",
        "\n",
        "model = MultinomialNB().fit(X_train_2pac, y_train_2pac)  \n",
        "\n",
        "import numpy as np\n",
        "predicted = model.predict(X_test_2pac)\n",
        "print(np.mean(predicted == y_test_2pac))\n",
        "\n",
        "from sklearn.metrics import confusion_matrix\n",
        "print(confusion_matrix(y_test_2pac, predicted))"
      ],
      "execution_count": 76,
      "outputs": [
        {
          "output_type": "stream",
          "text": [
            "0.0\n",
            "[[0 0 1 0]\n",
            " [0 0 0 0]\n",
            " [0 0 0 0]\n",
            " [0 1 0 0]]\n"
          ],
          "name": "stdout"
        }
      ]
    },
    {
      "metadata": {
        "id": "famAOMxVVHVn",
        "colab_type": "code",
        "colab": {}
      },
      "cell_type": "code",
      "source": [
        "def performance_test(my_size, my_count, columnLyrics):\n",
        "  per = 0\n",
        "  for i in range(0,10):\n",
        "      X_train, X_test, y_train, y_test = train_test_split(my_count, columnLyrics, test_size=my_size) \n",
        "      model = MultinomialNB().fit(X_train, y_train) \n",
        "\n",
        "      import numpy as np\n",
        "      predicted = model.predict(X_test)\n",
        "      print(np.mean(predicted == y_test))\n",
        "      per += np.mean(predicted == y_test)\n",
        "\n",
        "      from sklearn.metrics import confusion_matrix\n",
        "      print(confusion_matrix(y_test, predicted))\n",
        "\n",
        "  print \"average performance\"\n",
        "  print per/10.0"
      ],
      "execution_count": 0,
      "outputs": []
    },
    {
      "metadata": {
        "id": "dU_64tpgWayj",
        "colab_type": "code",
        "colab": {
          "base_uri": "https://localhost:8080/",
          "height": 816
        },
        "outputId": "ed2c8e35-a99f-497e-9482-c9157a20d6ed"
      },
      "cell_type": "code",
      "source": [
        "performance_test(0.1,counts2pac, pac_df[\"lyrics\"])"
      ],
      "execution_count": 78,
      "outputs": [
        {
          "output_type": "stream",
          "text": [
            "0.0\n",
            "[[0 0 0 0]\n",
            " [0 0 0 0]\n",
            " [1 0 0 0]\n",
            " [0 1 0 0]]\n",
            "0.0\n",
            "[[0 0 0 0]\n",
            " [0 0 0 0]\n",
            " [0 1 0 0]\n",
            " [1 0 0 0]]\n",
            "0.0\n",
            "[[0 0 0]\n",
            " [1 0 0]\n",
            " [1 0 0]]\n",
            "0.0\n",
            "[[0 0 1]\n",
            " [0 0 1]\n",
            " [0 0 0]]\n",
            "0.0\n",
            "[[0 0 0 0]\n",
            " [1 0 0 0]\n",
            " [0 0 0 0]\n",
            " [0 0 1 0]]\n",
            "0.0\n",
            "[[0 0 0 0]\n",
            " [1 0 0 0]\n",
            " [0 0 0 1]\n",
            " [0 0 0 0]]\n",
            "0.0\n",
            "[[0 0 0]\n",
            " [1 0 0]\n",
            " [1 0 0]]\n",
            "0.0\n",
            "[[0 0 0 0]\n",
            " [1 0 0 0]\n",
            " [0 0 0 1]\n",
            " [0 0 0 0]]\n",
            "0.0\n",
            "[[0 0 1]\n",
            " [0 0 1]\n",
            " [0 0 0]]\n",
            "0.0\n",
            "[[0 0 0]\n",
            " [1 0 0]\n",
            " [1 0 0]]\n",
            "average performance\n",
            "0.0\n"
          ],
          "name": "stdout"
        }
      ]
    },
    {
      "metadata": {
        "id": "F1MegIWeWeJ7",
        "colab_type": "code",
        "colab": {
          "base_uri": "https://localhost:8080/",
          "height": 1258
        },
        "outputId": "1b882d74-4c2c-4563-a804-10eb988c29e7"
      },
      "cell_type": "code",
      "source": [
        "performance_test(0.2,counts2pac, pac_df[\"lyrics\"])"
      ],
      "execution_count": 79,
      "outputs": [
        {
          "output_type": "stream",
          "text": [
            "0.0\n",
            "[[0 0 0 0 1 0]\n",
            " [0 0 0 0 1 0]\n",
            " [0 0 0 0 0 1]\n",
            " [0 0 0 0 1 0]\n",
            " [0 0 0 0 0 0]\n",
            " [0 0 0 0 0 0]]\n",
            "0.0\n",
            "[[0 0 1 0 0 0 0]\n",
            " [0 0 0 0 0 0 0]\n",
            " [0 0 0 0 0 0 0]\n",
            " [0 1 0 0 0 0 0]\n",
            " [0 0 0 0 0 1 0]\n",
            " [0 0 0 0 0 0 0]\n",
            " [0 1 0 0 0 0 0]]\n",
            "0.0\n",
            "[[0 0 1 0 0 0]\n",
            " [0 0 0 0 1 0]\n",
            " [0 0 0 0 0 0]\n",
            " [0 0 0 0 1 0]\n",
            " [0 0 0 0 0 0]\n",
            " [0 0 1 0 0 0]]\n",
            "0.0\n",
            "[[0 0 0 0 0 0]\n",
            " [0 0 0 0 0 0]\n",
            " [1 0 0 0 0 0]\n",
            " [1 0 0 0 0 0]\n",
            " [0 1 0 0 0 0]\n",
            " [1 0 0 0 0 0]]\n",
            "0.0\n",
            "[[0 0 0 0 0 0]\n",
            " [1 0 0 0 0 0]\n",
            " [1 0 0 0 0 0]\n",
            " [0 0 0 0 1 0]\n",
            " [0 0 0 0 0 0]\n",
            " [1 0 0 0 0 0]]\n",
            "0.0\n",
            "[[0 1 0 0 0 0 0]\n",
            " [0 0 0 0 0 0 0]\n",
            " [0 0 0 1 0 0 0]\n",
            " [0 0 0 0 0 0 0]\n",
            " [0 1 0 0 0 0 0]\n",
            " [0 0 0 0 0 0 1]\n",
            " [0 0 0 0 0 0 0]]\n",
            "0.0\n",
            "[[0 0 0 0 0]\n",
            " [1 0 0 0 0]\n",
            " [1 0 0 0 0]\n",
            " [1 0 0 0 0]\n",
            " [1 0 0 0 0]]\n",
            "0.0\n",
            "[[0 0 0 1 0 0]\n",
            " [0 0 0 0 0 0]\n",
            " [0 0 0 1 0 0]\n",
            " [0 0 0 0 0 0]\n",
            " [0 1 0 0 0 0]\n",
            " [0 0 0 1 0 0]]\n",
            "0.0\n",
            "[[0 0 0 0 0]\n",
            " [1 0 0 0 0]\n",
            " [1 0 0 0 0]\n",
            " [1 0 0 0 0]\n",
            " [1 0 0 0 0]]\n",
            "0.0\n",
            "[[0 0 0 0 0 0 0]\n",
            " [0 0 0 0 0 0 0]\n",
            " [1 0 0 0 0 0 0]\n",
            " [0 0 0 0 0 0 0]\n",
            " [0 1 0 0 0 0 0]\n",
            " [1 0 0 0 0 0 0]\n",
            " [0 0 0 1 0 0 0]]\n",
            "average performance\n",
            "0.0\n"
          ],
          "name": "stdout"
        }
      ]
    },
    {
      "metadata": {
        "id": "05oKZNm_We6b",
        "colab_type": "code",
        "colab": {
          "base_uri": "https://localhost:8080/",
          "height": 2077
        },
        "outputId": "f0437ada-b8cc-469c-c401-f0eb2da557fb"
      },
      "cell_type": "code",
      "source": [
        "performance_test(0.5,counts2pac, pac_df[\"lyrics\"])"
      ],
      "execution_count": 80,
      "outputs": [
        {
          "output_type": "stream",
          "text": [
            "0.0\n",
            "[[0 1 0 0 0 0 0 0 0 0 0]\n",
            " [0 0 0 0 0 0 0 0 0 0 0]\n",
            " [0 1 0 0 0 0 0 0 0 0 0]\n",
            " [0 0 0 0 0 0 0 0 0 0 0]\n",
            " [0 1 0 0 0 0 0 0 0 0 0]\n",
            " [0 1 0 0 0 0 0 0 0 0 0]\n",
            " [0 0 0 0 0 0 0 1 0 0 0]\n",
            " [0 0 0 0 0 0 0 0 0 0 0]\n",
            " [0 0 0 1 0 0 0 0 0 0 0]\n",
            " [0 0 0 1 0 0 0 0 0 0 0]\n",
            " [0 0 0 0 0 0 0 1 0 0 0]]\n",
            "0.0\n",
            "[[0 0 1 0 0 0 0 0 0 0]\n",
            " [0 0 0 0 0 0 0 0 0 0]\n",
            " [0 0 0 0 0 0 0 0 0 0]\n",
            " [0 1 0 0 0 0 0 0 0 0]\n",
            " [0 1 0 0 0 0 0 0 0 0]\n",
            " [0 1 0 0 0 0 0 0 0 0]\n",
            " [0 1 0 0 0 0 0 0 0 0]\n",
            " [0 1 0 0 0 0 0 0 0 0]\n",
            " [0 0 1 0 0 0 0 0 0 0]\n",
            " [0 1 0 0 0 0 0 0 0 0]]\n",
            "0.0\n",
            "[[0 0 1 0 0 0 0 0 0 0 0]\n",
            " [0 0 0 0 0 0 0 0 0 0 0]\n",
            " [0 0 0 0 0 0 0 0 0 0 0]\n",
            " [0 1 0 0 0 0 0 0 0 0 0]\n",
            " [0 1 0 0 0 0 0 0 0 0 0]\n",
            " [0 1 0 0 0 0 0 0 0 0 0]\n",
            " [0 0 0 0 0 0 0 1 0 0 0]\n",
            " [0 0 0 0 0 0 0 0 0 0 0]\n",
            " [0 0 1 0 0 0 0 0 0 0 0]\n",
            " [0 1 0 0 0 0 0 0 0 0 0]\n",
            " [0 0 0 0 0 0 0 1 0 0 0]]\n",
            "0.0\n",
            "[[0 0 1 0 0 0 0 0 0 0]\n",
            " [0 0 0 0 0 0 0 0 0 0]\n",
            " [0 0 0 0 0 0 0 0 0 0]\n",
            " [0 1 0 0 0 0 0 0 0 0]\n",
            " [0 1 0 0 0 0 0 0 0 0]\n",
            " [0 1 0 0 0 0 0 0 0 0]\n",
            " [0 1 0 0 0 0 0 0 0 0]\n",
            " [0 0 1 0 0 0 0 0 0 0]\n",
            " [0 1 0 0 0 0 0 0 0 0]\n",
            " [0 1 0 0 0 0 0 0 0 0]]\n",
            "0.0\n",
            "[[0 0 1 0 0 0 0 0 0 0 0]\n",
            " [0 0 0 0 0 0 0 0 0 0 0]\n",
            " [0 0 0 0 0 0 0 0 0 0 0]\n",
            " [0 1 0 0 0 0 0 0 0 0 0]\n",
            " [0 1 0 0 0 0 0 0 0 0 0]\n",
            " [0 0 0 0 0 0 0 0 0 0 0]\n",
            " [0 0 1 0 0 0 0 0 0 0 0]\n",
            " [0 1 0 0 0 0 0 0 0 0 0]\n",
            " [0 1 0 0 0 0 0 0 0 0 0]\n",
            " [0 0 0 0 0 1 0 0 0 0 0]\n",
            " [0 1 0 0 0 0 0 0 0 0 0]]\n",
            "0.0\n",
            "[[0 0 0 0 0 0 0 0 0 0 0]\n",
            " [0 0 0 0 0 0 0 0 0 0 0]\n",
            " [1 0 0 0 0 0 0 0 0 0 0]\n",
            " [1 0 0 0 0 0 0 0 0 0 0]\n",
            " [1 0 0 0 0 0 0 0 0 0 0]\n",
            " [0 0 0 0 0 0 1 0 0 0 0]\n",
            " [0 0 0 0 0 0 0 0 0 0 0]\n",
            " [0 1 0 0 0 0 0 0 0 0 0]\n",
            " [0 1 0 0 0 0 0 0 0 0 0]\n",
            " [1 0 0 0 0 0 0 0 0 0 0]\n",
            " [0 0 0 0 0 0 1 0 0 0 0]]\n",
            "0.0\n",
            "[[0 0 1 0 0 0 0 0 0 0 0]\n",
            " [0 0 0 0 0 0 0 1 0 0 0]\n",
            " [0 0 0 0 0 0 0 0 0 0 0]\n",
            " [0 0 0 0 0 0 0 1 0 0 0]\n",
            " [0 0 0 0 0 0 0 0 0 0 1]\n",
            " [0 0 1 0 0 0 0 0 0 0 0]\n",
            " [0 0 0 0 0 0 0 1 0 0 0]\n",
            " [0 0 0 0 0 0 0 0 0 0 0]\n",
            " [0 0 1 0 0 0 0 0 0 0 0]\n",
            " [0 0 0 0 0 0 0 1 0 0 0]\n",
            " [0 0 0 0 0 0 0 0 0 0 0]]\n",
            "0.0\n",
            "[[0 0 1 0 0 0 0 0 0 0 0]\n",
            " [0 0 0 0 0 0 0 0 0 0 0]\n",
            " [0 0 0 0 0 0 0 0 0 0 0]\n",
            " [0 1 0 0 0 0 0 0 0 0 0]\n",
            " [0 1 0 0 0 0 0 0 0 0 0]\n",
            " [0 0 0 0 0 0 1 0 0 0 0]\n",
            " [0 0 0 0 0 0 0 0 0 0 0]\n",
            " [0 0 1 0 0 0 0 0 0 0 0]\n",
            " [0 0 1 0 0 0 0 0 0 0 0]\n",
            " [0 1 0 0 0 0 0 0 0 0 0]\n",
            " [0 0 0 0 0 0 1 0 0 0 0]]\n",
            "0.0\n",
            "[[0 0 1 0 0 0 0 0 0 0 0]\n",
            " [0 0 0 0 0 0 0 0 0 0 0]\n",
            " [0 0 0 0 0 0 0 0 0 0 0]\n",
            " [0 0 1 0 0 0 0 0 0 0 0]\n",
            " [0 0 1 0 0 0 0 0 0 0 0]\n",
            " [0 1 0 0 0 0 0 0 0 0 0]\n",
            " [0 0 1 0 0 0 0 0 0 0 0]\n",
            " [0 1 0 0 0 0 0 0 0 0 0]\n",
            " [0 0 0 0 0 0 0 0 0 0 0]\n",
            " [0 0 1 0 0 0 0 0 0 0 0]\n",
            " [0 0 0 0 0 0 0 0 1 0 0]]\n",
            "0.0\n",
            "[[0 0 0 0 0 0 0 0 0 0 0]\n",
            " [0 0 0 0 0 0 0 0 0 0 0]\n",
            " [1 0 0 0 0 0 0 0 0 0 0]\n",
            " [1 0 0 0 0 0 0 0 0 0 0]\n",
            " [0 0 0 0 0 1 0 0 0 0 0]\n",
            " [0 0 0 0 0 0 0 0 0 0 0]\n",
            " [0 1 0 0 0 0 0 0 0 0 0]\n",
            " [1 0 0 0 0 0 0 0 0 0 0]\n",
            " [1 0 0 0 0 0 0 0 0 0 0]\n",
            " [0 0 0 0 0 1 0 0 0 0 0]\n",
            " [1 0 0 0 0 0 0 0 0 0 0]]\n",
            "average performance\n",
            "0.0\n"
          ],
          "name": "stdout"
        }
      ]
    },
    {
      "metadata": {
        "id": "psKwqtqxYA3T",
        "colab_type": "code",
        "colab": {
          "base_uri": "https://localhost:8080/",
          "height": 816
        },
        "outputId": "35c84a06-e2f3-4e65-f306-30705643421a"
      },
      "cell_type": "code",
      "source": [
        "performance_test(0.1,countsbiggie, biggie_df[\"lyrics\"])"
      ],
      "execution_count": 81,
      "outputs": [
        {
          "output_type": "stream",
          "text": [
            "0.0\n",
            "[[0 1 0]\n",
            " [0 0 0]\n",
            " [0 1 0]]\n",
            "0.0\n",
            "[[0 1 0 0]\n",
            " [0 0 0 0]\n",
            " [0 0 0 0]\n",
            " [0 0 1 0]]\n",
            "0.0\n",
            "[[0 1 0 0]\n",
            " [0 0 0 0]\n",
            " [0 0 0 0]\n",
            " [0 0 1 0]]\n",
            "0.0\n",
            "[[0 0 0 0]\n",
            " [0 0 0 0]\n",
            " [1 0 0 0]\n",
            " [0 1 0 0]]\n",
            "0.0\n",
            "[[0 1 0]\n",
            " [0 0 0]\n",
            " [0 1 0]]\n",
            "0.0\n",
            "[[0 0 0 0]\n",
            " [0 0 1 0]\n",
            " [0 0 0 0]\n",
            " [1 0 0 0]]\n",
            "0.0\n",
            "[[0 1 0]\n",
            " [0 0 0]\n",
            " [0 1 0]]\n",
            "0.0\n",
            "[[0 1 0]\n",
            " [0 0 0]\n",
            " [0 1 0]]\n",
            "0.0\n",
            "[[0 1 0]\n",
            " [0 0 0]\n",
            " [0 1 0]]\n",
            "0.0\n",
            "[[0 0 0 0]\n",
            " [0 0 0 0]\n",
            " [0 1 0 0]\n",
            " [1 0 0 0]]\n",
            "average performance\n",
            "0.0\n"
          ],
          "name": "stdout"
        }
      ]
    },
    {
      "metadata": {
        "id": "iM2HBqH7YAnt",
        "colab_type": "code",
        "colab": {
          "base_uri": "https://localhost:8080/",
          "height": 1309
        },
        "outputId": "1ea1e1dc-5006-405a-d573-c3e2e259d901"
      },
      "cell_type": "code",
      "source": [
        "performance_test(0.2,countsbiggie, biggie_df[\"lyrics\"])"
      ],
      "execution_count": 82,
      "outputs": [
        {
          "output_type": "stream",
          "text": [
            "0.0\n",
            "[[0 1 0 0 0 0]\n",
            " [0 0 0 0 0 0]\n",
            " [0 0 0 1 0 0]\n",
            " [0 0 0 0 0 0]\n",
            " [0 0 0 1 0 0]\n",
            " [0 1 0 0 0 0]]\n",
            "0.0\n",
            "[[0 0 1 0 0 0 0]\n",
            " [0 0 0 0 1 0 0]\n",
            " [0 0 0 0 0 0 0]\n",
            " [0 0 0 0 0 1 0]\n",
            " [0 0 0 0 0 0 0]\n",
            " [0 0 0 0 0 0 0]\n",
            " [0 0 0 0 0 1 0]]\n",
            "0.0\n",
            "[[0 1 0 0 0 0 0]\n",
            " [0 0 0 0 0 0 0]\n",
            " [0 0 0 0 0 0 0]\n",
            " [0 0 0 0 0 0 0]\n",
            " [0 0 0 1 0 0 0]\n",
            " [0 0 1 0 0 0 0]\n",
            " [0 0 0 1 0 0 0]]\n",
            "0.0\n",
            "[[0 0 0 0 1 0]\n",
            " [0 0 1 0 0 0]\n",
            " [0 0 0 0 0 0]\n",
            " [0 0 1 0 0 0]\n",
            " [0 0 0 0 0 0]\n",
            " [0 0 1 0 0 0]]\n",
            "0.0\n",
            "[[0 0 0 0 0 0 0]\n",
            " [0 0 0 1 0 0 0]\n",
            " [0 0 0 0 0 0 0]\n",
            " [0 0 0 0 0 0 0]\n",
            " [0 0 1 0 0 0 0]\n",
            " [1 0 0 0 0 0 0]\n",
            " [0 0 0 1 0 0 0]]\n",
            "0.0\n",
            "[[0 0 1 0 0 0]\n",
            " [0 0 0 0 0 0]\n",
            " [0 0 0 0 0 0]\n",
            " [0 0 1 0 0 0]\n",
            " [0 1 0 0 0 0]\n",
            " [0 1 0 0 0 0]]\n",
            "0.0\n",
            "[[0 0 0 1 0 0 0]\n",
            " [0 0 0 0 0 0 0]\n",
            " [0 1 0 0 0 0 0]\n",
            " [0 0 0 0 0 0 0]\n",
            " [0 0 0 0 0 0 0]\n",
            " [0 0 0 0 1 0 0]\n",
            " [0 1 0 0 0 0 0]]\n",
            "0.0\n",
            "[[0 0 0 0 0 0]\n",
            " [0 0 1 0 0 0]\n",
            " [0 0 0 0 0 0]\n",
            " [0 0 1 0 0 0]\n",
            " [1 0 0 0 0 0]\n",
            " [0 0 1 0 0 0]]\n",
            "0.0\n",
            "[[0 0 0 1 0 0]\n",
            " [0 0 0 0 1 0]\n",
            " [0 0 0 0 1 0]\n",
            " [0 0 0 0 0 0]\n",
            " [0 0 0 0 0 0]\n",
            " [0 0 0 0 1 0]]\n",
            "0.0\n",
            "[[0 0 0 0 0 0]\n",
            " [0 0 0 0 0 0]\n",
            " [1 0 0 0 0 0]\n",
            " [0 1 0 0 0 0]\n",
            " [1 0 0 0 0 0]\n",
            " [0 1 0 0 0 0]]\n",
            "average performance\n",
            "0.0\n"
          ],
          "name": "stdout"
        }
      ]
    },
    {
      "metadata": {
        "id": "uw6G54qkX_sj",
        "colab_type": "code",
        "colab": {
          "base_uri": "https://localhost:8080/",
          "height": 1904
        },
        "outputId": "ee1dbf1f-1bf3-4bdb-c3e5-28154c04f7aa"
      },
      "cell_type": "code",
      "source": [
        "performance_test(0.5, countsbiggie, biggie_df[\"lyrics\"])"
      ],
      "execution_count": 83,
      "outputs": [
        {
          "output_type": "stream",
          "text": [
            "0.0\n",
            "[[0 0 1 0 0 0 0 0 0 0 0]\n",
            " [0 0 0 0 0 0 1 0 0 0 0]\n",
            " [0 0 0 0 0 0 0 0 0 0 0]\n",
            " [0 0 0 0 0 0 0 1 0 0 0]\n",
            " [0 0 0 0 0 0 0 1 0 0 0]\n",
            " [0 0 0 0 0 0 0 1 0 0 0]\n",
            " [0 0 0 0 0 0 0 0 0 0 0]\n",
            " [0 0 0 0 0 0 0 0 0 0 0]\n",
            " [0 0 0 0 0 0 1 0 0 0 0]\n",
            " [0 0 0 0 0 0 0 1 0 0 0]\n",
            " [0 0 0 0 0 0 0 1 0 0 0]]\n",
            "0.0\n",
            "[[0 0 0 1 0 0 0 0 0 0]\n",
            " [0 0 0 0 0 1 0 0 0 0]\n",
            " [0 0 0 1 0 0 0 0 0 0]\n",
            " [0 0 0 0 0 0 0 0 0 0]\n",
            " [0 0 0 1 0 0 0 0 0 0]\n",
            " [0 0 0 0 0 0 0 0 0 0]\n",
            " [0 0 0 0 0 1 0 0 0 0]\n",
            " [0 0 0 0 0 1 0 0 0 0]\n",
            " [0 0 0 1 0 0 0 0 0 0]\n",
            " [0 0 0 0 0 1 0 0 0 0]]\n",
            "0.0\n",
            "[[0 0 0 0 0 0 0 0 0]\n",
            " [1 0 0 0 0 0 0 0 0]\n",
            " [1 0 0 0 0 0 0 0 0]\n",
            " [1 0 0 0 0 0 0 0 0]\n",
            " [1 0 0 0 0 0 0 0 0]\n",
            " [1 0 0 0 0 0 0 0 0]\n",
            " [1 0 0 0 0 0 0 0 0]\n",
            " [1 0 0 0 0 0 0 0 0]\n",
            " [1 0 0 0 0 0 0 0 0]]\n",
            "0.0\n",
            "[[0 0 1 0 0 0 0 0 0 0]\n",
            " [0 0 0 0 0 0 0 0 0 0]\n",
            " [0 0 0 0 0 0 0 0 0 0]\n",
            " [0 1 0 0 0 0 0 0 0 0]\n",
            " [0 1 0 0 0 0 0 0 0 0]\n",
            " [0 0 1 0 0 0 0 0 0 0]\n",
            " [0 1 0 0 0 0 0 0 0 0]\n",
            " [0 1 0 0 0 0 0 0 0 0]\n",
            " [0 0 1 0 0 0 0 0 0 0]\n",
            " [0 0 1 0 0 0 0 0 0 0]]\n",
            "0.0\n",
            "[[0 0 1 0 0 0 0 0 0 0]\n",
            " [0 0 0 0 0 0 0 1 0 0]\n",
            " [0 0 0 0 0 0 0 0 0 0]\n",
            " [0 0 0 0 0 0 0 1 0 0]\n",
            " [0 0 0 0 0 0 0 1 0 0]\n",
            " [0 0 0 0 0 0 0 1 0 0]\n",
            " [0 0 0 0 0 0 0 1 0 0]\n",
            " [0 0 0 0 0 0 0 0 0 0]\n",
            " [0 0 1 0 0 0 0 0 0 0]\n",
            " [0 0 0 0 0 0 0 1 0 0]]\n",
            "0.0\n",
            "[[0 0 0 0 0 1 0 0 0]\n",
            " [0 0 0 0 0 1 0 0 0]\n",
            " [0 0 0 0 0 1 0 0 0]\n",
            " [0 0 0 0 0 1 0 0 0]\n",
            " [0 0 0 0 0 1 0 0 0]\n",
            " [0 0 0 0 0 0 0 0 0]\n",
            " [0 0 0 0 0 1 0 0 0]\n",
            " [0 0 0 0 0 1 0 0 0]\n",
            " [0 0 0 0 0 1 0 0 0]]\n",
            "0.0\n",
            "[[0 0 0 0 0 0 0 1 0]\n",
            " [0 0 0 0 0 0 0 1 0]\n",
            " [0 0 0 0 0 0 0 1 0]\n",
            " [0 0 0 0 0 0 0 1 0]\n",
            " [0 0 0 0 0 0 0 1 0]\n",
            " [0 0 0 0 0 0 0 1 0]\n",
            " [0 0 0 0 0 0 0 1 0]\n",
            " [0 0 0 0 0 0 0 0 0]\n",
            " [0 0 0 0 0 0 0 1 0]]\n",
            "0.0\n",
            "[[0 0 0 1 0 0 0 0 0 0 0]\n",
            " [0 0 0 0 0 0 0 0 0 0 0]\n",
            " [0 0 0 1 0 0 0 0 0 0 0]\n",
            " [0 0 0 0 0 0 0 0 0 0 0]\n",
            " [0 0 0 0 0 0 1 0 0 0 0]\n",
            " [0 0 0 1 0 0 0 0 0 0 0]\n",
            " [0 0 0 0 0 0 0 0 0 0 0]\n",
            " [0 0 0 0 0 0 1 0 0 0 0]\n",
            " [0 1 0 0 0 0 0 0 0 0 0]\n",
            " [0 0 0 1 0 0 0 0 0 0 0]\n",
            " [0 0 0 1 0 0 0 0 0 0 0]]\n",
            "0.0\n",
            "[[0 0 0 0 0 0 0 0 0 0 0]\n",
            " [0 0 1 0 0 0 0 0 0 0 0]\n",
            " [0 0 0 0 0 0 0 0 0 0 0]\n",
            " [0 0 1 0 0 0 0 0 0 0 0]\n",
            " [0 0 1 0 0 0 0 0 0 0 0]\n",
            " [0 0 0 0 0 0 0 0 0 0 0]\n",
            " [0 0 0 0 0 1 0 0 0 0 0]\n",
            " [1 0 0 0 0 0 0 0 0 0 0]\n",
            " [0 0 0 0 0 1 0 0 0 0 0]\n",
            " [0 0 1 0 0 0 0 0 0 0 0]\n",
            " [0 0 0 0 0 1 0 0 0 0 0]]\n",
            "0.0\n",
            "[[0 0 0 0 0 0 1 0 0]\n",
            " [0 0 0 0 0 0 1 0 0]\n",
            " [0 0 0 0 0 0 1 0 0]\n",
            " [0 0 0 0 0 0 1 0 0]\n",
            " [0 0 0 0 0 0 1 0 0]\n",
            " [0 0 0 0 0 0 1 0 0]\n",
            " [0 0 0 0 0 0 0 0 0]\n",
            " [0 0 0 0 0 0 1 0 0]\n",
            " [0 0 0 0 0 0 1 0 0]]\n",
            "average performance\n",
            "0.0\n"
          ],
          "name": "stdout"
        }
      ]
    }
  ]
}